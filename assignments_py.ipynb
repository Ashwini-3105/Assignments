{
  "nbformat": 4,
  "nbformat_minor": 0,
  "metadata": {
    "colab": {
      "provenance": [],
      "authorship_tag": "ABX9TyNEqw9/oi6IgYWGsuqeFoNE",
      "include_colab_link": true
    },
    "kernelspec": {
      "name": "python3",
      "display_name": "Python 3"
    },
    "language_info": {
      "name": "python"
    }
  },
  "cells": [
    {
      "cell_type": "markdown",
      "metadata": {
        "id": "view-in-github",
        "colab_type": "text"
      },
      "source": [
        "<a href=\"https://colab.research.google.com/github/Ashwini-3105/Assignments/blob/main/assignments_py.ipynb\" target=\"_parent\"><img src=\"https://colab.research.google.com/assets/colab-badge.svg\" alt=\"Open In Colab\"/></a>"
      ]
    },
    {
      "cell_type": "markdown",
      "source": [
        "**Assignment-1**"
      ],
      "metadata": {
        "id": "IL5t33lkAXHD"
      }
    },
    {
      "cell_type": "code",
      "execution_count": null,
      "metadata": {
        "colab": {
          "base_uri": "https://localhost:8080/"
        },
        "id": "tQUQop67AJWZ",
        "outputId": "1b487b14-4fd1-43f7-c8d7-7da47d29f143"
      },
      "outputs": [
        {
          "output_type": "stream",
          "name": "stdout",
          "text": [
            "enter a number1234\n",
            "last digit of number is 4\n"
          ]
        }
      ],
      "source": [
        "#1)write a program to print last digit of a number\n",
        "a=int(input(\"enter a number\"))\n",
        "print(\"last digit of number is\",a%10)"
      ]
    },
    {
      "cell_type": "code",
      "source": [
        "#2)write a program to check whthre the last number is odd or even\n",
        "a=int(input(\"enter a number\"))\n",
        "if(a%2==0):\n",
        "  print(\"number is even\")\n",
        "else:\n",
        "  print(\"number is odd\")"
      ],
      "metadata": {
        "colab": {
          "base_uri": "https://localhost:8080/"
        },
        "id": "60SYkQJ0BSUH",
        "outputId": "fbc83823-d60a-48c9-aea6-52ac0dd742a9"
      },
      "execution_count": null,
      "outputs": [
        {
          "output_type": "stream",
          "name": "stdout",
          "text": [
            "enter a number23456\n",
            "number is even\n"
          ]
        }
      ]
    },
    {
      "cell_type": "code",
      "source": [
        "#3)write a program to check whether the person is eligible for vote or not\n",
        "age=int(input(\"enter your age\"))\n",
        "if age>=18:\n",
        "  print(\"you are eligible for vote\")\n",
        "else:\n",
        "  print(\"you are not eligible for vote\")"
      ],
      "metadata": {
        "colab": {
          "base_uri": "https://localhost:8080/"
        },
        "id": "gNHRuDoPBr4O",
        "outputId": "68b8bd6d-717b-44cd-db0a-43d2becf6a46"
      },
      "execution_count": null,
      "outputs": [
        {
          "output_type": "stream",
          "name": "stdout",
          "text": [
            "enter your age23\n",
            "you are eligible for vote\n"
          ]
        }
      ]
    },
    {
      "cell_type": "code",
      "source": [
        "#4)write program grade according to persentage of marks\n",
        "marks=int(input(\"enter your marks\"))\n",
        "if marks>=90:\n",
        "  print(\"grade A\")\n",
        "elif marks>=80:\n",
        "  print(\"grade B\")\n",
        "elif marks>=70:\n",
        "  print(\"grade C\")\n",
        "elif marks>=50:\n",
        "  print(\"grade D\")\n",
        "else:\n",
        "  print(\"fail\")"
      ],
      "metadata": {
        "colab": {
          "base_uri": "https://localhost:8080/"
        },
        "id": "yQu4q_DlCEB2",
        "outputId": "ec22e47e-988d-4822-aa4c-ce0c2618e5d6"
      },
      "execution_count": null,
      "outputs": [
        {
          "output_type": "stream",
          "name": "stdout",
          "text": [
            "enter your marks56\n",
            "grade D\n"
          ]
        }
      ]
    },
    {
      "cell_type": "code",
      "source": [
        "#5)to display the day in a week according to the number entered\n",
        "print(\"sunday=0,monday=1,tuesday=2,wednesday=3,thursday=4,friday=5,saturday=6\")\n",
        "a=int(input(\"enter a number\"))\n",
        "if a==0:\n",
        "  print(\"sunday\")\n",
        "elif a==1:\n",
        "  print(\"monday\")\n",
        "elif a==2:\n",
        "  print(\"tuesday\")\n",
        "elif a==3:\n",
        "  print(\"wednesday\")\n",
        "elif a==4:\n",
        "  print(\"thursday\")\n",
        "elif a==5:\n",
        "  print(\"friday\")\n",
        "elif a==6:\n",
        "  print(\"saturday\")\n",
        "else:\n",
        "  print(\"invalid input\")"
      ],
      "metadata": {
        "colab": {
          "base_uri": "https://localhost:8080/"
        },
        "id": "nLLgVEqFCoGl",
        "outputId": "dbf654d6-ed17-4579-eda9-6e342b1ad917"
      },
      "execution_count": null,
      "outputs": [
        {
          "output_type": "stream",
          "name": "stdout",
          "text": [
            "sunday=0,monday=1,tuesday=2,wednesday=3,thursday=4,friday=5,saturday=6\n",
            "enter a number6\n",
            "saturday\n"
          ]
        }
      ]
    },
    {
      "cell_type": "code",
      "source": [
        "#6)to check whether number entered is 3digits or not\n",
        "a=int(input(\"enter a number\"))\n",
        "if a//1000==0 and a//100!=0:\n",
        "  print(\"number is 3 digit\")\n",
        "else:\n",
        "  print(\"number is not 3 digit\")"
      ],
      "metadata": {
        "colab": {
          "base_uri": "https://localhost:8080/"
        },
        "id": "XMl3puDZDL4_",
        "outputId": "09301779-1fb0-459b-e807-f4266ae5eb56"
      },
      "execution_count": null,
      "outputs": [
        {
          "output_type": "stream",
          "name": "stdout",
          "text": [
            "enter a number23\n",
            "number is not 3 digit\n"
          ]
        }
      ]
    },
    {
      "cell_type": "code",
      "source": [
        "#7)to check positive or not\n",
        "a=int(input(\"enter a number:\"))\n",
        "if a>0:\n",
        "  print(\"number is positive\")\n",
        "elif a==0:\n",
        "  print(\"number is zero\")\n",
        "else:\n",
        "  print(\"number is negative\")\n"
      ],
      "metadata": {
        "colab": {
          "base_uri": "https://localhost:8080/"
        },
        "id": "8g_3k_YXDzDa",
        "outputId": "9090abe7-9c4a-4de6-8fb9-a6fe6f677be1"
      },
      "execution_count": null,
      "outputs": [
        {
          "output_type": "stream",
          "name": "stdout",
          "text": [
            "enter a number:12\n",
            "number is positive\n"
          ]
        }
      ]
    },
    {
      "cell_type": "code",
      "source": [
        "#8)to check whether entered num is divisible by 8 and 9\n",
        "a=int(input(\"enter a number:\"))\n",
        "if a%8==0 and a%9==0:\n",
        "  print(\"number is divisible by 8 and 9\")\n",
        "else:\n",
        "  print(\"number is not divisible by 8 and 9\")"
      ],
      "metadata": {
        "colab": {
          "base_uri": "https://localhost:8080/",
          "height": 0
        },
        "id": "1uLWUadNERp_",
        "outputId": "e9c5d075-288b-49bc-90ad-b3b79ecbb168"
      },
      "execution_count": 1,
      "outputs": [
        {
          "output_type": "stream",
          "name": "stdout",
          "text": [
            "enter a number:72\n",
            "number is divisible by 8 and 9\n"
          ]
        }
      ]
    },
    {
      "cell_type": "code",
      "source": [
        "#9)to find the largest number in a given three numbers\n",
        "a=int(input(\"enter first number:\"))\n",
        "b=int(input(\"enter second number:\"))\n",
        "c=int(input(\"enter third number:\"))\n",
        "if a>c and a>b:\n",
        "  print(\"first number is largest\")\n",
        "elif b>a and b>c:\n",
        "  print(\"second number is largest\")\n",
        "else:\n",
        "  print(\"third number is largest\")"
      ],
      "metadata": {
        "id": "PKAgslEEE008",
        "colab": {
          "base_uri": "https://localhost:8080/",
          "height": 0
        },
        "outputId": "fcda7111-9c35-4182-ec8c-1228711902ce"
      },
      "execution_count": 2,
      "outputs": [
        {
          "output_type": "stream",
          "name": "stdout",
          "text": [
            "enter first number:12\n",
            "enter second number:23\n",
            "enter third number:21\n",
            "second number is largest\n"
          ]
        }
      ]
    },
    {
      "cell_type": "code",
      "source": [
        "#10)to check enterd character is vowel or not\n",
        "ch=input(\"enter a character:\")\n",
        "if ch=='a' or ch=='e' or ch=='i' or ch=='o' or ch=='u':\n",
        "  print(\"character is vowel\")\n",
        "else:\n",
        "  print(\"character is not vowel\")"
      ],
      "metadata": {
        "colab": {
          "base_uri": "https://localhost:8080/",
          "height": 0
        },
        "id": "fZDDPNh5Epvn",
        "outputId": "73ee1a36-8da0-4822-fd18-1f386113e897"
      },
      "execution_count": 3,
      "outputs": [
        {
          "output_type": "stream",
          "name": "stdout",
          "text": [
            "enter a character:r\n",
            "character is not vowel\n"
          ]
        }
      ]
    },
    {
      "cell_type": "markdown",
      "source": [
        "Assignment-2"
      ],
      "metadata": {
        "id": "hVsdjavyFBPc"
      }
    },
    {
      "cell_type": "code",
      "source": [
        "#1)print the pattern 1\n",
        "#                    1 2\n",
        "#                    1 2 3\n",
        "for i in range(1,7):\n",
        "  for j in range(1,i):\n",
        "    print(j,end=\" \")\n",
        "  print(\"\\n\")"
      ],
      "metadata": {
        "colab": {
          "base_uri": "https://localhost:8080/",
          "height": 0
        },
        "id": "RCbFfNDXFFRV",
        "outputId": "46a057ee-4404-47ed-bfbf-72739351e62f"
      },
      "execution_count": 10,
      "outputs": [
        {
          "output_type": "stream",
          "name": "stdout",
          "text": [
            "\n",
            "\n",
            "1 \n",
            "\n",
            "1 2 \n",
            "\n",
            "1 2 3 \n",
            "\n",
            "1 2 3 4 \n",
            "\n",
            "1 2 3 4 5 \n",
            "\n"
          ]
        }
      ]
    },
    {
      "cell_type": "code",
      "source": [
        "#2)caluculate the sum of all numbers from 1 to n\n",
        "n=int(input(\"enter a number:\"))\n",
        "sum=0\n",
        "for i in range(1,n+1):\n",
        "  sum=sum+i\n",
        "print(\"sum of all numbers from 1 to\",n,\"is\",sum)"
      ],
      "metadata": {
        "colab": {
          "base_uri": "https://localhost:8080/",
          "height": 0
        },
        "id": "2r8Z5WXlGfQL",
        "outputId": "84599d2d-8ee3-46e4-dad8-5349cad1be95"
      },
      "execution_count": 11,
      "outputs": [
        {
          "output_type": "stream",
          "name": "stdout",
          "text": [
            "enter a number:10\n",
            "sum of all numbers from 1 to 10 is 55\n"
          ]
        }
      ]
    },
    {
      "cell_type": "code",
      "source": [
        "#3)counting total number of digits in a given number\n",
        "n=int(input(\"enter a number:\"))\n",
        "count=0\n",
        "while n!=0:\n",
        "  rem=n%10\n",
        "  n=n//10\n",
        "  count+=1\n",
        "print(\"no of digits is:\",count)"
      ],
      "metadata": {
        "colab": {
          "base_uri": "https://localhost:8080/",
          "height": 0
        },
        "id": "oD28GkCaG25c",
        "outputId": "1abb80e2-c8f4-4bc1-ac5b-36d66ce8b717"
      },
      "execution_count": 12,
      "outputs": [
        {
          "output_type": "stream",
          "name": "stdout",
          "text": [
            "enter a number:12345\n",
            "no of digits is: 5\n"
          ]
        }
      ]
    },
    {
      "cell_type": "code",
      "source": [
        "#4)list problem\n",
        "l=[2,75,150,180,145,525,50]\n",
        "for i in range(0,len(l)):\n",
        "  if l[i]>500:\n",
        "    break\n",
        "  if l[i]>150:\n",
        "    continue\n",
        "  if l[i]%5==0:\n",
        "    print(l[i])"
      ],
      "metadata": {
        "colab": {
          "base_uri": "https://localhost:8080/",
          "height": 0
        },
        "id": "h8PCVHaCHdrC",
        "outputId": "a804831e-bfa8-4c26-9a7d-4d560107031b"
      },
      "execution_count": 13,
      "outputs": [
        {
          "output_type": "stream",
          "name": "stdout",
          "text": [
            "75\n",
            "150\n",
            "145\n"
          ]
        }
      ]
    },
    {
      "cell_type": "code",
      "source": [
        "#5)printing reverse order of a list\n",
        "l=[10,20,30,40,50]\n",
        "for i in range(len(l)-1,-1,-1):\n",
        "  print(l[i])"
      ],
      "metadata": {
        "colab": {
          "base_uri": "https://localhost:8080/",
          "height": 0
        },
        "id": "POLtycEGIIqC",
        "outputId": "f3a24b37-df3e-4610-a94b-c817fc7e6f8d"
      },
      "execution_count": 14,
      "outputs": [
        {
          "output_type": "stream",
          "name": "stdout",
          "text": [
            "50\n",
            "40\n",
            "30\n",
            "20\n",
            "10\n"
          ]
        }
      ]
    },
    {
      "cell_type": "code",
      "source": [
        "#6)display numbers from -10 to -1\n",
        "i=-10\n",
        "for i in range(-10,0):\n",
        "  print(i)"
      ],
      "metadata": {
        "colab": {
          "base_uri": "https://localhost:8080/",
          "height": 0
        },
        "id": "G7_hNwwVIm5P",
        "outputId": "cd790e83-8abc-46d8-e6f5-879b3dc1c0ed"
      },
      "execution_count": 15,
      "outputs": [
        {
          "output_type": "stream",
          "name": "stdout",
          "text": [
            "-10\n",
            "-9\n",
            "-8\n",
            "-7\n",
            "-6\n",
            "-5\n",
            "-4\n",
            "-3\n",
            "-2\n",
            "-1\n"
          ]
        }
      ]
    },
    {
      "cell_type": "code",
      "source": [
        "#7)printing prime numbers\n",
        "for i in range(1,101):\n",
        "  if i>1:\n",
        "     for j in range(2,i):\n",
        "       if i%j==0:\n",
        "           break\n",
        "     else:\n",
        "      print(i)\n",
        "\n",
        ""
      ],
      "metadata": {
        "colab": {
          "base_uri": "https://localhost:8080/"
        },
        "id": "7RxyVOpXI_Mp",
        "outputId": "7c395eac-c84f-44e6-b0c6-930d4a182151"
      },
      "execution_count": 27,
      "outputs": [
        {
          "output_type": "stream",
          "name": "stdout",
          "text": [
            "2\n",
            "3\n",
            "5\n",
            "7\n",
            "11\n",
            "13\n",
            "17\n",
            "19\n",
            "23\n",
            "29\n",
            "31\n",
            "37\n",
            "41\n",
            "43\n",
            "47\n",
            "53\n",
            "59\n",
            "61\n",
            "67\n",
            "71\n",
            "73\n",
            "79\n",
            "83\n",
            "89\n",
            "97\n"
          ]
        }
      ]
    },
    {
      "cell_type": "code",
      "source": [
        "#8)printing fibonacci series\n",
        "a=0\n",
        "b=1\n",
        "n=int(input(\"enter a number:\"))\n",
        "print(a)\n",
        "print(b)\n",
        "for i in range(n):\n",
        "  c=a+b\n",
        "  print(c)\n",
        "  a=b\n",
        "  b=c"
      ],
      "metadata": {
        "colab": {
          "base_uri": "https://localhost:8080/",
          "height": 0
        },
        "id": "h9k9Vw_UKYYj",
        "outputId": "7ef7b385-6c61-4bbc-b5c2-50ad6f51ab03"
      },
      "execution_count": 21,
      "outputs": [
        {
          "output_type": "stream",
          "name": "stdout",
          "text": [
            "enter a number:5\n",
            "0\n",
            "1\n",
            "1\n",
            "2\n",
            "3\n",
            "5\n",
            "8\n"
          ]
        }
      ]
    },
    {
      "cell_type": "code",
      "source": [
        "#9)factorial of a given number\n",
        "n=int(input(\"enter a number:\"))\n",
        "fact=1\n",
        "for i in range(n,0,-1):\n",
        "  fact=fact*i\n",
        "print(fact)"
      ],
      "metadata": {
        "colab": {
          "base_uri": "https://localhost:8080/",
          "height": 0
        },
        "id": "CTPi140SLGW6",
        "outputId": "80083ab3-d60b-41e9-e738-65c50c6194cc"
      },
      "execution_count": 24,
      "outputs": [
        {
          "output_type": "stream",
          "name": "stdout",
          "text": [
            "enter a number:5\n",
            "120\n"
          ]
        }
      ]
    },
    {
      "cell_type": "code",
      "source": [
        "#10)print reverse of a given number\n",
        "n=int(input(\"enter a number:\"))\n",
        "rev=0\n",
        "while n!=0:\n",
        "  rem=n%10\n",
        "  n=n//10\n",
        "  rev=rev*10+rem\n",
        "print(\"the reverse of a given number:\",rev)"
      ],
      "metadata": {
        "colab": {
          "base_uri": "https://localhost:8080/",
          "height": 0
        },
        "id": "jc-sZ26BL9WN",
        "outputId": "f5673ea4-dd2c-462f-e022-dbfe98014961"
      },
      "execution_count": 26,
      "outputs": [
        {
          "output_type": "stream",
          "name": "stdout",
          "text": [
            "enter a number:234\n",
            "the reverse of a given number: 432\n"
          ]
        }
      ]
    }
  ]
}